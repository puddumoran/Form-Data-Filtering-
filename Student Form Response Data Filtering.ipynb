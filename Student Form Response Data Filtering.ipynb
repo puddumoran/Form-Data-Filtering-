{
 "cells": [
  {
   "cell_type": "code",
   "execution_count": 1,
   "metadata": {},
   "outputs": [],
   "source": [
    "import pandas as pd\n",
    "import numpy as np\n"
   ]
  },
  {
   "cell_type": "markdown",
   "metadata": {},
   "source": [
    "### Importing dataset "
   ]
  },
  {
   "cell_type": "code",
   "execution_count": 3,
   "metadata": {},
   "outputs": [],
   "source": [
    "ad=pd.read_csv(r\"C:\\Users\\window10\\Desktop\\Tech Board Member Details new\\Application for Joining Technical Clubs (Responses) - Form Responses 1.csv\")"
   ]
  },
  {
   "cell_type": "code",
   "execution_count": 5,
   "metadata": {},
   "outputs": [
    {
     "data": {
      "text/plain": [
       "Index(['Timestamp', 'Email Address', 'Name', 'Roll No.', 'Branch', 'Batch',\n",
       "       'Contact No.', 'Institute Mail ID', 'Club'],\n",
       "      dtype='object')"
      ]
     },
     "execution_count": 5,
     "metadata": {},
     "output_type": "execute_result"
    }
   ],
   "source": [
    "pd.set_option(\"Display.max_colwidth\",None)\n",
    "ad.rename(columns={'Choose clubs that you want to join:-':\"Club\"},inplace=True)\n",
    "ad.columns\n"
   ]
  },
  {
   "cell_type": "code",
   "execution_count": 6,
   "metadata": {},
   "outputs": [
    {
     "name": "stdout",
     "output_type": "stream",
     "text": [
      "Below are the total choices we aksed in the form \n",
      "Coordinator Coding Club\n",
      "Coding Club\n",
      "Web Development Club\n",
      "Blockchain Club\n",
      "Mobile App Development Club\n",
      "Cyber Security Club\n",
      "AI/ML Club\n",
      "Coordinator Web Development Club\n",
      "Coordinator Mobile App Development Club\n",
      "Coordinator Blockchain Club\n",
      "Robotics and IoT Club\n",
      "Entrepreneurship Club\n",
      "Electronics Club\n",
      "Coordinator Entrepreneurship Club\n"
     ]
    }
   ],
   "source": [
    "li=[]\n",
    "toy=[]\n",
    "for a in ad[\"Club\"]:\n",
    "    b=a\n",
    "    b=b.split(',')\n",
    "    for c in b:\n",
    "        if c[0]==' ':\n",
    "            c=c[1:]\n",
    "            li.append(c)\n",
    "        else:\n",
    "            li.append(c)\n",
    "res=[]\n",
    "for i in li :\n",
    "    if i not in res:\n",
    "        res.append(i)\n",
    "#for i in li:\n",
    "  #  print(i)\n",
    "print(\"Below are the total choices we aksed in the form \")\n",
    "for j in res:\n",
    "    print(j)"
   ]
  },
  {
   "cell_type": "code",
   "execution_count": 7,
   "metadata": {},
   "outputs": [
    {
     "name": "stdout",
     "output_type": "stream",
     "text": [
      "Choose clubs or clubs by selecting desired numbers:- \n",
      "Coordinator Coding Club:--0\n",
      "Coding Club:--1\n",
      "Web Development Club:--2\n",
      "Blockchain Club:--3\n",
      "Mobile App Development Club:--4\n",
      "Cyber Security Club:--5\n",
      "AI/ML Club:--6\n",
      "Coordinator Web Development Club:--7\n",
      "Coordinator Mobile App Development Club:--8\n",
      "Coordinator Blockchain Club:--9\n",
      "Robotics and IoT Club:--10\n",
      "Entrepreneurship Club:--11\n",
      "Electronics Club:--12\n",
      "Coordinator Entrepreneurship Club:--13\n"
     ]
    }
   ],
   "source": [
    "print(\"Choose clubs or clubs by selecting desired numbers:- \")\n",
    "\n",
    "dic={}\n",
    "\n",
    "for i in range(len(res)):\n",
    "    dic[i]=res[i]\n",
    "for i in dic:\n",
    "    print(dic[i]+\":--\" +str(i))\n",
    "\n",
    "#a=int(input())"
   ]
  },
  {
   "cell_type": "code",
   "execution_count": 8,
   "metadata": {},
   "outputs": [
    {
     "name": "stdout",
     "output_type": "stream",
     "text": [
      "How many clubs you want to choose from \n",
      "1\n",
      "Enter club number \n",
      "6\n",
      "['AI/ML Club']\n",
      "[' AI/ML Club']\n",
      "['AI/ML Club', ' AI/ML Club']\n"
     ]
    }
   ],
   "source": [
    "\n",
    "print(\"How many clubs you want to choose from \")\n",
    "\n",
    "qweqweqwe=1\n",
    "if qweqweqwe==1:\n",
    "  aa=int(input())\n",
    "lo=[]\n",
    "for i in range(aa):\n",
    "  print(\"Enter club number \")\n",
    "  b=int(input())\n",
    "  if (b<0 or b>13):\n",
    "       print(\"Please enter correct Number :!!!\")\n",
    "       break\n",
    "  lo.append(dic[b])\n",
    "  b=0\n",
    "            \n",
    "print(lo)\n",
    "t=[]\n",
    "for i in lo:\n",
    "    i=\" \"+i\n",
    "    t.append(i)\n",
    "    \n",
    "print(t)\n",
    "\n",
    "for j in t:\n",
    " lo.append(j) \n",
    "\n",
    "print(lo)\n",
    "\n",
    "ui=lo[0]\n"
   ]
  },
  {
   "cell_type": "code",
   "execution_count": 9,
   "metadata": {},
   "outputs": [
    {
     "name": "stdout",
     "output_type": "stream",
     "text": [
      "Total no. of students in all clubs :- 278\n"
     ]
    }
   ],
   "source": [
    "print(\"Total no. of students in all clubs :- \" + str(ad.shape[0])) # Total No. of Students "
   ]
  },
  {
   "cell_type": "markdown",
   "metadata": {},
   "source": [
    "\n",
    "# Batch : 2021-25\n"
   ]
  },
  {
   "cell_type": "code",
   "execution_count": 10,
   "metadata": {},
   "outputs": [
    {
     "name": "stdout",
     "output_type": "stream",
     "text": [
      "Batch details :- \n",
      "Total 1st year cse( that took part in any club of the tech board )\n",
      "132\n",
      "          \n",
      "Total 1st year ece (that took part in any club of the tech board) \n",
      "56\n",
      "           \n",
      "Total 1st year mea (that took part in any club of the tech board) \n",
      "21\n",
      "\n",
      "\n"
     ]
    },
    {
     "name": "stderr",
     "output_type": "stream",
     "text": [
      "<ipython-input-10-251774766401>:15: SettingWithCopyWarning: \n",
      "A value is trying to be set on a copy of a slice from a DataFrame.\n",
      "Try using .loc[row_indexer,col_indexer] = value instead\n",
      "\n",
      "See the caveats in the documentation: https://pandas.pydata.org/pandas-docs/stable/user_guide/indexing.html#returning-a-view-versus-a-copy\n",
      "  sd[\"My\"]=np.random.randint(10,20,sd.shape[0])\n"
     ]
    },
    {
     "name": "stdout",
     "output_type": "stream",
     "text": [
      "AI/ML Club details of this club for this batch  are :- \n",
      "\n",
      "\n",
      "The total members of AI/ML Club from this batch are  70\n",
      "\n",
      "\n",
      "Total CSE Members (1st year) of this club are \n",
      "42\n",
      "     \n",
      "Total ECE Members (1st year) of this club are \n",
      "17\n",
      "     \n",
      "Total MEA Membets (1st year) of this club are \n",
      "11\n",
      "     \n"
     ]
    }
   ],
   "source": [
    "sd=ad[ad[\"Batch\"]==\"2021-25\"]\n",
    "sd.shape[0]  #Total No. of First year students\n",
    "\n",
    "print(\"Batch details :- \")\n",
    "print(f\"Total 1st year cse( that took part in any club of the tech board )\")\n",
    "print(sd[sd[\"Branch\"]==\"CSE\"].shape[0])\n",
    "print(\"          \")\n",
    "print(f\"Total 1st year ece (that took part in any club of the tech board) \")\n",
    "print(sd[sd[\"Branch\"]==\"ECE\"].shape[0])\n",
    "print(\"           \")\n",
    "print(f\"Total 1st year mea (that took part in any club of the tech board) \")\n",
    "print(sd[sd[\"Branch\"]==\"MEA\"].shape[0])\n",
    "print(f'\\n')\n",
    "\n",
    "sd[\"My\"]=np.random.randint(10,20,sd.shape[0])\n",
    "\n",
    "sd.head(3)\n",
    "\n",
    "val=0\n",
    "count=0\n",
    "for i in sd[\"Club\"]:\n",
    "    k=i\n",
    "    k=k.split(\",\")\n",
    "    \n",
    "    for j in k:\n",
    "        #if j==dic[a]:\n",
    "        if j in lo:\n",
    "                \n",
    "            #print(j)\n",
    "            val=1\n",
    "             #print(\"yes\")\n",
    "    if val==1:\n",
    "        sd.iat[count,9]=1\n",
    "    else:\n",
    "        sd.iat[count,9]=0\n",
    "    count=count+1\n",
    "    val=0\n",
    "    \n",
    "\n",
    "sd_new=sd[sd['My']==1]\n",
    "#print(\"Total club members of this cllub sd_new.shape[0])# Total  Club Members\n",
    "\n",
    "print(f\"{ui} details of this club for this batch  are :- \")\n",
    "print(f'\\n')\n",
    "pd.set_option(\"Display.max_rows\",None)\n",
    "\n",
    "\n",
    "# t=pd.DataFrame()\n",
    "# t['Mobile']=sd['Contact No.']\n",
    "# t['Name']=sd['Name']\n",
    "\n",
    "print(f\"The total members of {ui} from this batch are \",sd_new.shape[0])\n",
    "print(f\"\\n\")\n",
    "\n",
    "\n",
    "sd_new_cse=sd_new[sd_new[\"Branch\"]==\"CSE\"]\n",
    "print(\"Total CSE Members (1st year) of this club are \")\n",
    "print(sd_new_cse.shape[0])  #Total CSE members of Club\n",
    "print(\"     \")\n",
    "\n",
    "sd_new_ece=sd_new[sd_new[\"Branch\"]==\"ECE\"]\n",
    "print(\"Total ECE Members (1st year) of this club are \")\n",
    "print(sd_new_ece.shape[0])  #Total ECE members of Club\n",
    "print(\"     \")\n",
    "\n",
    "sd_new_mea=sd_new[sd_new[\"Branch\"]==\"MEA\"]\n",
    "print(\"Total MEA Membets (1st year) of this club are \")\n",
    "print(sd_new_mea.shape[0])  #Total MEA members of Club\n",
    "print(\"     \")\n",
    "\n"
   ]
  },
  {
   "cell_type": "code",
   "execution_count": null,
   "metadata": {},
   "outputs": [],
   "source": []
  },
  {
   "cell_type": "markdown",
   "metadata": {},
   "source": [
    " \n",
    "# Batch :-  2020-2024\n"
   ]
  },
  {
   "cell_type": "code",
   "execution_count": 13,
   "metadata": {},
   "outputs": [
    {
     "name": "stdout",
     "output_type": "stream",
     "text": [
      "Total 2nd year cse ( that enrolled in tech board clubs ) \n",
      "24\n",
      "          \n",
      "Total 2nd year ece ( that enrolled in tech board clubs ) \n",
      "26\n",
      "           \n",
      "Total 2nd year mea ( that enrolled in tech board clubs ) \n",
      "6\n",
      "\n",
      "\n",
      "\n",
      "\n",
      "The total members of AI/ML Club from this batch are  7\n",
      "\n",
      "\n",
      "Total CSE Members (1st year) of this club are \n",
      "3\n",
      "     \n",
      "Total ECE Members (1st year) of this club are \n",
      "4\n",
      "     \n",
      "Total MEA Membets (1st year) of this club are \n",
      "0\n",
      "     \n"
     ]
    },
    {
     "name": "stderr",
     "output_type": "stream",
     "text": [
      "<ipython-input-13-4752c78b4c92>:18: SettingWithCopyWarning: \n",
      "A value is trying to be set on a copy of a slice from a DataFrame.\n",
      "Try using .loc[row_indexer,col_indexer] = value instead\n",
      "\n",
      "See the caveats in the documentation: https://pandas.pydata.org/pandas-docs/stable/user_guide/indexing.html#returning-a-view-versus-a-copy\n",
      "  dd[\"My\"]=np.random.randint(10,20,dd.shape[0])\n"
     ]
    }
   ],
   "source": [
    "# Second Year \n",
    "# Batch : 2020-24\n",
    "\n",
    "\n",
    "dd=ad[ad[\"Batch\"]==\"2020-24\"]\n",
    "dd.shape[0]  #Total No. of First year students\n",
    "\n",
    "print(f\"Total 2nd year cse ( that enrolled in tech board clubs ) \")\n",
    "print(dd[dd[\"Branch\"]==\"CSE\"].shape[0])\n",
    "print(\"          \")\n",
    "print(f\"Total 2nd year ece ( that enrolled in tech board clubs ) \")\n",
    "print(dd[dd[\"Branch\"]==\"ECE\"].shape[0])\n",
    "print(\"           \")\n",
    "print(f\"Total 2nd year mea ( that enrolled in tech board clubs ) \")\n",
    "print(dd[dd[\"Branch\"]==\"MEA\"].shape[0])\n",
    "print(f'\\n')\n",
    "\n",
    "dd[\"My\"]=np.random.randint(10,20,dd.shape[0])\n",
    "\n",
    "dd.head(3)\n",
    "\n",
    "val=0\n",
    "count=0\n",
    "for i in dd[\"Club\"]:\n",
    "    k=i\n",
    "    k=k.split(\",\")\n",
    "    \n",
    "    for j in k:\n",
    "        #if j==dic[a]:\n",
    "        if j in lo:\n",
    "                \n",
    "            #print(j)\n",
    "            val=1\n",
    "             #print(\"yes\")\n",
    "    if val==1:\n",
    "        dd.iat[count,9]=1\n",
    "    else:\n",
    "        dd.iat[count,9]=0\n",
    "    count=count+1\n",
    "    val=0\n",
    "    \n",
    "\n",
    "dd_new=dd[dd['My']==1]\n",
    "dd_new.shape[0]# Total  Club Members\n",
    "\n",
    "print(f'\\n')\n",
    "pd.set_option(\"Display.max_rows\",None)\n",
    "dd_new.head()\n",
    "\n",
    "\n",
    "\n",
    "\n",
    "tt=pd.DataFrame()\n",
    "tt['Mobile']=dd['Contact No.']\n",
    "tt['Name']=dd['Name']\n",
    "\n",
    "\n",
    "print(f\"The total members of {ui} from this batch are \",dd_new.shape[0])\n",
    "print(f\"\\n\")\n",
    "\n",
    "\n",
    "dd_new_cse=dd_new[dd_new[\"Branch\"]==\"CSE\"]\n",
    "print(\"Total CSE Members (1st year) of this club are \")\n",
    "print(dd_new_cse.shape[0])  #Total CSE members of Club\n",
    "print(\"     \")\n",
    "\n",
    "dd_new_ece=dd_new[dd_new[\"Branch\"]==\"ECE\"]\n",
    "print(\"Total ECE Members (1st year) of this club are \")\n",
    "print(dd_new_ece.shape[0])  #Total ECE members of Club\n",
    "print(\"     \")\n",
    "\n",
    "dd_new_mea=dd_new[dd_new[\"Branch\"]==\"MEA\"]\n",
    "print(\"Total MEA Membets (1st year) of this club are \")\n",
    "print(dd_new_mea.shape[0])  #Total MEA members of Club\n",
    "print(\"     \")\n",
    "\n",
    "\n"
   ]
  },
  {
   "cell_type": "code",
   "execution_count": null,
   "metadata": {},
   "outputs": [],
   "source": []
  },
  {
   "cell_type": "raw",
   "metadata": {},
   "source": []
  },
  {
   "cell_type": "markdown",
   "metadata": {},
   "source": [
    "# Batch 2019-2023 details "
   ]
  },
  {
   "cell_type": "code",
   "execution_count": null,
   "metadata": {},
   "outputs": [],
   "source": []
  },
  {
   "cell_type": "code",
   "execution_count": 12,
   "metadata": {},
   "outputs": [
    {
     "name": "stdout",
     "output_type": "stream",
     "text": [
      "Total 3rd year cse ( that enrolled in tech board clubs )\n",
      "9\n",
      "          \n",
      "Total 3rd year ece (that enrolled in tech board clubs) \n",
      "2\n",
      "           \n",
      "Total 3rd year mea ( that enrolled in tech board clubs) \n",
      "2\n",
      "\n",
      "\n",
      "\n",
      "\n",
      "The total members of AI/ML Club from this batch are  1\n",
      "\n",
      "\n",
      "Total CSE Members (3rd year) of this club are \n",
      "1\n",
      "     \n",
      "Total ECE Members (3rd year) of this club are \n",
      "0\n",
      "     \n",
      "Total MEA Membets (3rd year) of this club are \n",
      "0\n",
      "     \n"
     ]
    },
    {
     "name": "stderr",
     "output_type": "stream",
     "text": [
      "<ipython-input-12-852dc72bbf88>:18: SettingWithCopyWarning: \n",
      "A value is trying to be set on a copy of a slice from a DataFrame.\n",
      "Try using .loc[row_indexer,col_indexer] = value instead\n",
      "\n",
      "See the caveats in the documentation: https://pandas.pydata.org/pandas-docs/stable/user_guide/indexing.html#returning-a-view-versus-a-copy\n",
      "  fd[\"My\"]=np.random.randint(10,20,fd.shape[0])\n",
      "<ipython-input-12-852dc72bbf88>:50: UserWarning: Boolean Series key will be reindexed to match DataFrame index.\n",
      "  fd_new[fd['Branch']==\"CSE\"]\n"
     ]
    }
   ],
   "source": [
    "# Second Year \n",
    "# Batch : 2020-24\n",
    "\n",
    "\n",
    "fd=ad[ad[\"Batch\"]==\"2019-23\"]\n",
    "fd.shape[0]  #Total No. of First year students\n",
    "\n",
    "print(f\"Total 3rd year cse ( that enrolled in tech board clubs )\")\n",
    "print(fd[fd[\"Branch\"]==\"CSE\"].shape[0])\n",
    "print(\"          \")\n",
    "print(f\"Total 3rd year ece (that enrolled in tech board clubs) \")\n",
    "print(fd[fd[\"Branch\"]==\"ECE\"].shape[0])\n",
    "print(\"           \")\n",
    "print(f\"Total 3rd year mea ( that enrolled in tech board clubs) \")\n",
    "print(fd[fd[\"Branch\"]==\"MEA\"].shape[0])\n",
    "print(f\"\\n\")\n",
    "\n",
    "fd[\"My\"]=np.random.randint(10,20,fd.shape[0])\n",
    "\n",
    "fd.head(3)\n",
    "\n",
    "print(f\"\\n\")\n",
    "val=0\n",
    "count=0\n",
    "for i in fd[\"Club\"]:\n",
    "    k=i\n",
    "    k=k.split(\",\")\n",
    "    \n",
    "    for j in k:\n",
    "        #if j==dic[a]:\n",
    "        if j in lo:\n",
    "                \n",
    "            #print(j)\n",
    "            val=1\n",
    "             #print(\"yes\")\n",
    "    if val==1:\n",
    "        fd.iat[count,9]=1\n",
    "    else:\n",
    "        fd.iat[count,9]=0\n",
    "    count=count+1\n",
    "    val=0\n",
    "    \n",
    "\n",
    "fd_new=fd[fd['My']==1]\n",
    "fd_new.shape[0]# Total  Club Members\n",
    "pd.set_option(\"Display.max_rows\",None)\n",
    "fd_new.head()\n",
    "\n",
    "\n",
    "fd_new[fd['Branch']==\"CSE\"]\n",
    "\n",
    "ttt=pd.DataFrame()\n",
    "ttt['Mobile']=fd['Contact No.']\n",
    "ttt['Name']=fd['Name']\n",
    "print(f\"The total members of {ui} from this batch are \",fd_new.shape[0])\n",
    "print(f\"\\n\")\n",
    "\n",
    "fd_new_cse=fd_new[fd_new[\"Branch\"]==\"CSE\"]\n",
    "print(\"Total CSE Members (3rd year) of this club are \")\n",
    "print(fd_new_cse.shape[0])  #Total CSE members of Club\n",
    "print(\"     \")\n",
    "\n",
    "fd_new_ece=fd_new[fd_new[\"Branch\"]==\"ECE\"]\n",
    "print(\"Total ECE Members (3rd year) of this club are \")\n",
    "print(fd_new_ece.shape[0])  #Total ECE members of Club\n",
    "print(\"     \")\n",
    "\n",
    "fd_new_mea=fd_new[fd_new[\"Branch\"]==\"MEA\"]\n",
    "print(\"Total MEA Membets (3rd year) of this club are \")\n",
    "print(fd_new_mea.shape[0])  #Total MEA members of Club\n",
    "print(\"     \")\n",
    "\n",
    "\n"
   ]
  },
  {
   "cell_type": "markdown",
   "metadata": {},
   "source": [
    "# The end \n"
   ]
  },
  {
   "cell_type": "code",
   "execution_count": null,
   "metadata": {},
   "outputs": [],
   "source": []
  }
 ],
 "metadata": {
  "kernelspec": {
   "display_name": "Python 3",
   "language": "python",
   "name": "python3"
  },
  "language_info": {
   "codemirror_mode": {
    "name": "ipython",
    "version": 3
   },
   "file_extension": ".py",
   "mimetype": "text/x-python",
   "name": "python",
   "nbconvert_exporter": "python",
   "pygments_lexer": "ipython3",
   "version": "3.8.5"
  }
 },
 "nbformat": 4,
 "nbformat_minor": 4
}
